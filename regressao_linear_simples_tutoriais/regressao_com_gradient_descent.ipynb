{
 "cells": [
  {
   "cell_type": "code",
   "execution_count": 1,
   "metadata": {},
   "outputs": [],
   "source": [
    "import numpy as np\n",
    "import pandas as pd\n",
    "import matplotlib.pyplot as plt\n",
    "from sklearn.linear_model import LinearRegression"
   ]
  },
  {
   "cell_type": "code",
   "execution_count": 2,
   "metadata": {},
   "outputs": [
    {
     "data": {
      "text/html": [
       "<div>\n",
       "<style scoped>\n",
       "    .dataframe tbody tr th:only-of-type {\n",
       "        vertical-align: middle;\n",
       "    }\n",
       "\n",
       "    .dataframe tbody tr th {\n",
       "        vertical-align: top;\n",
       "    }\n",
       "\n",
       "    .dataframe thead th {\n",
       "        text-align: right;\n",
       "    }\n",
       "</style>\n",
       "<table border=\"1\" class=\"dataframe\">\n",
       "  <thead>\n",
       "    <tr style=\"text-align: right;\">\n",
       "      <th></th>\n",
       "      <th>TV</th>\n",
       "      <th>Sales</th>\n",
       "    </tr>\n",
       "  </thead>\n",
       "  <tbody>\n",
       "    <tr>\n",
       "      <th>0</th>\n",
       "      <td>230.1</td>\n",
       "      <td>22.1</td>\n",
       "    </tr>\n",
       "    <tr>\n",
       "      <th>1</th>\n",
       "      <td>44.5</td>\n",
       "      <td>10.4</td>\n",
       "    </tr>\n",
       "    <tr>\n",
       "      <th>2</th>\n",
       "      <td>17.2</td>\n",
       "      <td>9.3</td>\n",
       "    </tr>\n",
       "    <tr>\n",
       "      <th>3</th>\n",
       "      <td>151.5</td>\n",
       "      <td>18.5</td>\n",
       "    </tr>\n",
       "    <tr>\n",
       "      <th>4</th>\n",
       "      <td>180.8</td>\n",
       "      <td>12.9</td>\n",
       "    </tr>\n",
       "  </tbody>\n",
       "</table>\n",
       "</div>"
      ],
      "text/plain": [
       "      TV  Sales\n",
       "0  230.1   22.1\n",
       "1   44.5   10.4\n",
       "2   17.2    9.3\n",
       "3  151.5   18.5\n",
       "4  180.8   12.9"
      ]
     },
     "execution_count": 2,
     "metadata": {},
     "output_type": "execute_result"
    }
   ],
   "source": [
    "adv = pd.DataFrame({\n",
    "    \"TV\": [230.1, 44.5, 17.2, 151.5, 180.8],\n",
    "    \"Sales\":[22.1, 10.4, 9.3, 18.5, 12.9]\n",
    "}\n",
    ")\n",
    "\n",
    "adv"
   ]
  },
  {
   "cell_type": "code",
   "execution_count": 3,
   "metadata": {},
   "outputs": [
    {
     "data": {
      "image/png": "[encoded data removed]",
      "text/plain": [
       "<Figure size 640x480 with 1 Axes>"
      ]
     },
     "metadata": {},
     "output_type": "display_data"
    }
   ],
   "source": [
    "plt.scatter(\n",
    "    x = adv['TV'],\n",
    "    y = adv[\"Sales\"],\n",
    "    color = \"orange\"\n",
    ")\n",
    "\n",
    "plt.xlabel(\"TV\")\n",
    "plt.ylabel(\"Sales\");"
   ]
  },
  {
   "cell_type": "code",
   "execution_count": 4,
   "metadata": {},
   "outputs": [],
   "source": [
    "X = np.array(adv['TV'])\n",
    "Y = np.array(adv['Sales'])"
   ]
  },
  {
   "cell_type": "markdown",
   "metadata": {},
   "source": [
    "Vamos tentar encontrar os coeficientes de regressão linear $m$ e $b$, por meio da minimização da diferença entre os valores originais de $y^{(i)}$ e os valores previstos $\\hat{y}^{(i)}$ com a **função de custo (loss Function)** $L\\left(w, b\\right)  = \\frac{1}{2}\\left(\\hat{y}^{(i)} - y^{(i)}\\right)^2$ para cada exemplo de treino. \n",
    "\n",
    "Para comparar o resultado das previsões $\\hat{Y}$ com o vetor $Y$ de valores originais $y^{(i)}$, você pode pegar a média dos valores da função de custo para cada exemplo:\n",
    "\n",
    "$$E\\left(m, b\\right) = \\frac{1}{2n}\\sum_{i=1}^{n} \\left(\\hat{y}^{(i)} - y^{(i)}\\right)^2 = \n",
    "\\frac{1}{2n}\\sum_{i=1}^{n} \\left(mx^{(i)}+b - y^{(i)}\\right)^2,\\tag{1}$$\n",
    "\n",
    "Essa função é conhecida como soma dos quadrados **cost function**. Para o usar o algoritmo de gradient descent, calcule as derivadas parciais de m e b:\n",
    "\n",
    "\\begin{align}\n",
    "\\frac{\\partial E }{ \\partial m } &= \n",
    "\\frac{1}{n}\\sum_{i=1}^{n} \\left(mx^{(i)}+b - y^{(i)}\\right)x^{(i)},\\\\\n",
    "\\frac{\\partial E }{ \\partial b } &= \n",
    "\\frac{1}{n}\\sum_{i=1}^{n} \\left(mx^{(i)}+b - y^{(i)}\\right),\n",
    "\\tag{2}\\end{align}\n",
    "\n",
    "e atualizado os parâmetros iterativamente, usando essas expressões\n",
    "\n",
    "\\begin{align}\n",
    "m &= m - \\alpha \\frac{\\partial E }{ \\partial m },\\\\\n",
    "b &= b - \\alpha \\frac{\\partial E }{ \\partial b },\n",
    "\\tag{3}\\end{align}\n",
    "\n",
    "onde  $\\alpha$ é a taxa de aprendizado (learning rate)."
   ]
  },
  {
   "cell_type": "markdown",
   "metadata": {},
   "source": [
    "\n",
    "Os arrays originais X e Y têm unidades diferentes. Para tornar o algoritmo de descida de gradiente eficiente, é necessário trazê-los para as mesmas unidades. Uma abordagem comum para isso é chamada de normalização: subtrair o valor médio do array de cada um dos elementos no array e dividi-los pelo desvio padrão (uma medida estatística da quantidade de dispersão de um conjunto de valores).\n",
    "\n",
    "A normalização não é obrigatória - o algoritmo de descida de gradiente funcionaria sem ela. No entanto, devido às diferentes unidades de X e Y, a função de custo será muito mais íngreme. Nesse caso, seria necessário usar uma taxa de aprendizado $\\alpha$ significativamente menor, e o algoritmo exigiria milhares de iterações para convergir em vez de algumas dezenas. A normalização ajuda a aumentar a eficiência do algoritmo de descida de gradiente.\n",
    "\n",
    "A normalização é implementada no seguinte código:"
   ]
  },
  {
   "cell_type": "code",
   "execution_count": 6,
   "metadata": {},
   "outputs": [],
   "source": [
    "X_norm = (X - np.mean(X))/np.std(X)\n",
    "Y_norm = (Y - np.mean(Y))/np.std(Y)"
   ]
  },
  {
   "cell_type": "code",
   "execution_count": 7,
   "metadata": {},
   "outputs": [],
   "source": [
    "# Funçaõ de custo\n",
    "def E(m, b, X, Y):\n",
    "    return 1/(2*len(Y))*np.sum((m*X + b - Y)**2)"
   ]
  },
  {
   "cell_type": "code",
   "execution_count": 8,
   "metadata": {},
   "outputs": [],
   "source": [
    "def dEdm(m, b, X, Y):\n",
    "    \"\"\"\n",
    "    Calcula a derivada parcial da função de erro em relação à inclinação (m) em uma regressão linear.\n",
    "\n",
    "    Parâmetros:\n",
    "    - m (float): Inclinação atual da reta de regressão.\n",
    "    - b (float): Intercepto atual da reta de regressão.\n",
    "    - X (array-like): Array contendo os valores da variável independente.\n",
    "    - Y (array-like): Array contendo os valores da variável dependente.\n",
    "\n",
    "    Retorna:\n",
    "    - float: Derivada parcial da função de erro em relação à inclinação (m).\n",
    "    \"\"\"\n",
    "    res = 1/len(Y) * np.dot((m*X + b - Y), X)\n",
    "    return res\n",
    "\n",
    "def dEdb(m, b, X, Y):\n",
    "    \"\"\"\n",
    "    Calcula a derivada parcial da função de erro em relação ao intercepto (b) em uma regressão linear.\n",
    "\n",
    "    Parâmetros:\n",
    "    - m (float): Inclinação atual da reta de regressão.\n",
    "    - b (float): Intercepto atual da reta de regressão.\n",
    "    - X (array-like): Array contendo os valores da variável independente.\n",
    "    - Y (array-like): Array contendo os valores da variável dependente.\n",
    "\n",
    "    Retorna:\n",
    "    - float: Derivada parcial da função de erro em relação ao intercepto (b).\n",
    "    \"\"\"\n",
    "    res = 1/len(Y) * np.sum(m*X + b - Y)\n",
    "    return res\n"
   ]
  },
  {
   "cell_type": "code",
   "execution_count": 9,
   "metadata": {},
   "outputs": [
    {
     "name": "stdout",
     "output_type": "stream",
     "text": [
      "-0.8576318592110517\n",
      "2.2204460492503132e-17\n",
      "0.14236814078894797\n",
      "5.0\n"
     ]
    }
   ],
   "source": [
    "print(dEdm(0, 0, X_norm, Y_norm))\n",
    "print(dEdb(0, 0, X_norm, Y_norm))\n",
    "print(dEdm(1, 5, X_norm, Y_norm))\n",
    "print(dEdb(1, 5, X_norm, Y_norm))"
   ]
  },
  {
   "cell_type": "markdown",
   "metadata": {},
   "source": [
    "Agora vamos implementar a descida do gradiente"
   ]
  },
  {
   "cell_type": "code",
   "execution_count": 10,
   "metadata": {},
   "outputs": [],
   "source": [
    "def gradient_descent(dEdm, dEdb, m, b, X, Y, learning_rate = 0.001, num_iterations = 1000, print_cost=False):\n",
    "    for iteration in range(num_iterations):\n",
    "        \n",
    "        m_new = m - learning_rate * dEdm(m, b, X, Y)\n",
    "        b_new = b - learning_rate * dEdb(m, b, X, Y)\n",
    "        \n",
    "        m = m_new\n",
    "        b = b_new\n",
    "        if print_cost:\n",
    "            print (f\"Cost after iteration {iteration}: {E(m, b, X, Y)}\")\n",
    "        \n",
    "    return m, b"
   ]
  },
  {
   "cell_type": "code",
   "execution_count": 11,
   "metadata": {},
   "outputs": [
    {
     "name": "stdout",
     "output_type": "stream",
     "text": [
      "(0.5422845484413322, -4.3298697960382076e-19)\n",
      "(0.9863870537929061, 4.521910375044022)\n"
     ]
    }
   ],
   "source": [
    "print(gradient_descent(dEdm, dEdb, 0, 0, X_norm, Y_norm))\n",
    "print(gradient_descent(dEdm, dEdb, 1, 5, X_norm, Y_norm, learning_rate = 0.01, num_iterations = 10))"
   ]
  },
  {
   "cell_type": "markdown",
   "metadata": {},
   "source": [
    "Vamos dar iniciar a descida com m e b iniciando em 0"
   ]
  },
  {
   "cell_type": "code",
   "execution_count": 13,
   "metadata": {},
   "outputs": [
    {
     "name": "stdout",
     "output_type": "stream",
     "text": [
      "Cost after iteration 0: 0.14694444515177355\n",
      "Cost after iteration 1: 0.13282222295784452\n",
      "Cost after iteration 2: 0.13225733407008733\n",
      "Cost after iteration 3: 0.13223473851457704\n",
      "Cost after iteration 4: 0.1322338346923566\n",
      "Gradient descent result: m_min, b_min = 0.8579063014059991, 2.6645352591003756e-17\n"
     ]
    }
   ],
   "source": [
    "m_initial = 0; b_initial = 0; num_iterations = 30; learning_rate = 1.2\n",
    "m_gd, b_gd = gradient_descent(dEdm, dEdb, m_initial, b_initial, \n",
    "                              X_norm, Y_norm, learning_rate, num_iterations, print_cost=True)\n",
    "\n",
    "print(f\"Gradient descent result: m_min, b_min = {m_gd}, {b_gd}\") "
   ]
  },
  {
   "cell_type": "markdown",
   "metadata": {},
   "source": [
    "Lembre-se de que os conjuntos de dados iniciais foram normalizados. Para fazer as previsões, você precisa normalizar o array `X_pred`, calcular `Y_pred` com os coeficientes da regressão linear `m_gd` e `b_gd` e, em seguida, **desnormalizar** o resultado (realizar o processo inverso de normalização):"
   ]
  },
  {
   "cell_type": "code",
   "execution_count": 15,
   "metadata": {},
   "outputs": [
    {
     "name": "stdout",
     "output_type": "stream",
     "text": [
      "TV marketing expenses:\n",
      "[ 50 120 175]\n",
      "Predictions of sales using Gradient Descent:\n",
      "[10.76594126 14.39042819 17.23823934]\n"
     ]
    }
   ],
   "source": [
    "X_pred = np.array([50, 120, 175])\n",
    "# Use the same mean and standard deviation of the original training array X\n",
    "X_pred_norm = (X_pred - np.mean(X))/np.std(X)\n",
    "Y_pred_gd_norm = m_gd * X_pred_norm + b_gd\n",
    "# Use the same mean and standard deviation of the original training array Y\n",
    "Y_pred_gd = Y_pred_gd_norm * np.std(Y) + np.mean(Y)\n",
    "\n",
    "print(f\"TV marketing expenses:\\n{X_pred}\")\n",
    "print(f\"Predictions of sales using Gradient Descent:\\n{Y_pred_gd}\")"
   ]
  },
  {
   "cell_type": "markdown",
   "metadata": {},
   "source": [
    "Mesmo resultado que obtivemos com o SkLearn e com o Numpy"
   ]
  }
 ],
 "metadata": {
  "kernelspec": {
   "display_name": ".venv",
   "language": "python",
   "name": "python3"
  },
  "language_info": {
   "codemirror_mode": {
    "name": "ipython",
    "version": 3
   },
   "file_extension": ".py",
   "mimetype": "text/x-python",
   "name": "python",
   "nbconvert_exporter": "python",
   "pygments_lexer": "ipython3",
   "version": "3.11.4"
  }
 },
 "nbformat": 4,
 "nbformat_minor": 2
}
