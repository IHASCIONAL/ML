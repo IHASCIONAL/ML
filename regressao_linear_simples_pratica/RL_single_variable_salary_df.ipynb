{
 "cells": [
  {
   "cell_type": "markdown",
   "metadata": {},
   "source": [
    "### PACKAGES"
   ]
  },
  {
   "cell_type": "code",
   "execution_count": 2,
   "metadata": {},
   "outputs": [],
   "source": [
    "import pandas as pd\n",
    "import matplotlib.pyplot as plt\n",
    "import numpy as np"
   ]
  },
  {
   "cell_type": "markdown",
   "metadata": {},
   "source": [
    "### PASSO A PASSO PARA PRATICAR A REGRESSÃO LINEAR UNIVARIADA\n",
    "\n",
    "    -> 0.0 - Baixar um dataset simples, no kaggle, específico para a prática de regressão linear\n",
    "    -> 1.0 - Garantir que o dataset possui apenas duas colunas (Feature e Target)\n",
    "    -> 2.0 - Garantir que não há valores nulos\n",
    "    -> 3.0 - Plotar um gráfico de dispersão e observar se existe uma tendência linear (para que o estudo faça sentido)\n",
    "    -> 4.0 - Separar as colunas nas variáveis X (Feature) e Y (Target)\n",
    "    -> 5.0 - Normalizar X e Y\n",
    "    -> 6.0 - Definir a função de custo (isso aqui cabe em qualquer lugar, não precisa ser o sexto step)\n",
    "    -> 7.0 - Definir as derivadas parciais de m (inclinação ou slope) e b (intercepto). (Saber calcular no papel e caneta é essencial pra melhor compreensão)\n",
    "    -> 8.0 - Implementar a função de descida do gradiente\n",
    "    -> 9.0 - Definir pontos iniciais, números de iterações e learning rate e rodar a descida do gradiente\n",
    "    -> 10 - Definir o vetor X com os valores a serem previstos\n",
    "    -> 11 - Normalizar o vetor X, pra que esteja na mesma dimensão que os dados de treino\n",
    "    -> 12 - Realizar a previsão, com a famosa fórmula Y = ax + b, e armazenar o resultado em uma variável\n",
    "    -> 13 - Desnormalizar o vetor de previsão (vetor * desvio padrão do Y + média do Y)\n",
    "    -> 14 - Plotar um único gráfico com a dispersão inicial de X e Y e os pontos de previsão (de preferência, cada um de uma cor)*"
   ]
  },
  {
   "cell_type": "markdown",
   "metadata": {},
   "source": [
    "#### 1.0 - Garantir que o dataset possui apenas duas colunas (Feature e Target)"
   ]
  },
  {
   "cell_type": "code",
   "execution_count": 3,
   "metadata": {},
   "outputs": [
    {
     "data": {
      "text/html": [
       "<div>\n",
       "<style scoped>\n",
       "    .dataframe tbody tr th:only-of-type {\n",
       "        vertical-align: middle;\n",
       "    }\n",
       "\n",
       "    .dataframe tbody tr th {\n",
       "        vertical-align: top;\n",
       "    }\n",
       "\n",
       "    .dataframe thead th {\n",
       "        text-align: right;\n",
       "    }\n",
       "</style>\n",
       "<table border=\"1\" class=\"dataframe\">\n",
       "  <thead>\n",
       "    <tr style=\"text-align: right;\">\n",
       "      <th></th>\n",
       "      <th>YearsExperience</th>\n",
       "      <th>Salary</th>\n",
       "    </tr>\n",
       "  </thead>\n",
       "  <tbody>\n",
       "    <tr>\n",
       "      <th>0</th>\n",
       "      <td>1.2</td>\n",
       "      <td>39344.0</td>\n",
       "    </tr>\n",
       "    <tr>\n",
       "      <th>1</th>\n",
       "      <td>1.4</td>\n",
       "      <td>46206.0</td>\n",
       "    </tr>\n",
       "    <tr>\n",
       "      <th>2</th>\n",
       "      <td>1.6</td>\n",
       "      <td>37732.0</td>\n",
       "    </tr>\n",
       "    <tr>\n",
       "      <th>3</th>\n",
       "      <td>2.1</td>\n",
       "      <td>43526.0</td>\n",
       "    </tr>\n",
       "    <tr>\n",
       "      <th>4</th>\n",
       "      <td>2.3</td>\n",
       "      <td>39892.0</td>\n",
       "    </tr>\n",
       "  </tbody>\n",
       "</table>\n",
       "</div>"
      ],
      "text/plain": [
       "   YearsExperience   Salary\n",
       "0              1.2  39344.0\n",
       "1              1.4  46206.0\n",
       "2              1.6  37732.0\n",
       "3              2.1  43526.0\n",
       "4              2.3  39892.0"
      ]
     },
     "execution_count": 3,
     "metadata": {},
     "output_type": "execute_result"
    }
   ],
   "source": [
    "salary_df = pd.read_csv(\"../data/salary.csv\")\n",
    "salary_df = salary_df[['YearsExperience','Salary']]\n",
    "\n",
    "salary_df.head()"
   ]
  },
  {
   "cell_type": "markdown",
   "metadata": {},
   "source": [
    "#### 2.0 - Garantir que não há valores nulos"
   ]
  },
  {
   "cell_type": "code",
   "execution_count": 9,
   "metadata": {},
   "outputs": [
    {
     "data": {
      "text/plain": [
       "YearsExperience    0\n",
       "Salary             0\n",
       "dtype: int64"
      ]
     },
     "execution_count": 9,
     "metadata": {},
     "output_type": "execute_result"
    }
   ],
   "source": [
    "salary_df.isna().sum()"
   ]
  },
  {
   "cell_type": "markdown",
   "metadata": {},
   "source": [
    "#### 3.0 - Plotar um gráfico de dispersão e observar se existe uma tendêncial linear (para que o estudo faça sentido)"
   ]
  },
  {
   "cell_type": "code",
   "execution_count": 7,
   "metadata": {},
   "outputs": [
    {
     "data": {
      "image/png": "[encoded data removed]",
      "text/plain": [
       "<Figure size 640x480 with 1 Axes>"
      ]
     },
     "metadata": {},
     "output_type": "display_data"
    }
   ],
   "source": [
    "plt.scatter(\n",
    "    x = salary_df['YearsExperience'],\n",
    "    y = salary_df['Salary'],\n",
    "    color = \"black\"\n",
    ")\n",
    "\n",
    "plt.xlabel(\"Years of Experience\")\n",
    "plt.ylabel(\"Salary\");"
   ]
  },
  {
   "cell_type": "markdown",
   "metadata": {},
   "source": [
    "#### 4.0 - Separar as colunas nas variáveis X (Feature) e Y (Target)"
   ]
  },
  {
   "cell_type": "code",
   "execution_count": 8,
   "metadata": {},
   "outputs": [],
   "source": [
    "X = salary_df['YearsExperience']\n",
    "Y = salary_df['Salary']"
   ]
  },
  {
   "cell_type": "markdown",
   "metadata": {},
   "source": [
    "#### 5.0 - Normalizar X e Y"
   ]
  },
  {
   "cell_type": "code",
   "execution_count": 11,
   "metadata": {},
   "outputs": [],
   "source": [
    "X_norm = (X - np.mean(X))/np.std(X)\n",
    "Y_norm = (Y - np.mean(Y))/np.std(Y)"
   ]
  },
  {
   "cell_type": "markdown",
   "metadata": {},
   "source": [
    "#### 6.0 - Definir a função de custo*"
   ]
  },
  {
   "cell_type": "code",
   "execution_count": 14,
   "metadata": {},
   "outputs": [],
   "source": [
    "# Função de custo \n",
    "def E(m, b, X, Y):\n",
    "    return 1/(2*len(Y))*np.sum((m*X + b - Y)**2)"
   ]
  },
  {
   "cell_type": "markdown",
   "metadata": {},
   "source": [
    "#### 7.0 Definir as derivadas parciais de m (inclinação ou slope) e b (intercepto). "
   ]
  },
  {
   "cell_type": "code",
   "execution_count": 17,
   "metadata": {},
   "outputs": [],
   "source": [
    "def dEdm(m, b, X, Y):\n",
    "    res = 1/len(Y) * np.dot((m*X + b - Y), X)\n",
    "    return res\n",
    "\n",
    "def dEdb(m, b, X, Y):\n",
    "    res = 1/len(Y) * np.sum(m*X + b - Y)\n",
    "    return res\n"
   ]
  },
  {
   "cell_type": "markdown",
   "metadata": {},
   "source": [
    "#### 8 - Implementar a função de descida do gradiente"
   ]
  },
  {
   "cell_type": "code",
   "execution_count": 18,
   "metadata": {},
   "outputs": [],
   "source": [
    "def gradient_descent(dEdm, dEdb, m, b, X, Y, learning_rate = 0.001, num_iterations = 1000, print_cost=False):\n",
    "    for iteration in range(num_iterations):\n",
    "        \n",
    "        m_new = m - learning_rate * dEdm(m, b, X, Y)\n",
    "        b_new = b - learning_rate * dEdb(m, b, X, Y)\n",
    "        \n",
    "        m = m_new\n",
    "        b = b_new\n",
    "        if print_cost:\n",
    "            print (f\"Cost after iteration {iteration}: {E(m, b, X, Y)}\")\n",
    "        \n",
    "    return m, b"
   ]
  },
  {
   "cell_type": "markdown",
   "metadata": {},
   "source": [
    "#### 9.0 - Definir pontos iniciais, números de iterações e learning rate e rodar a descida do gradiente"
   ]
  },
  {
   "cell_type": "code",
   "execution_count": 20,
   "metadata": {},
   "outputs": [
    {
     "name": "stdout",
     "output_type": "stream",
     "text": [
      "Cost after iteration 0: 0.040660801211115837\n",
      "Cost after iteration 1: 0.022287233259560536\n",
      "Cost after iteration 2: 0.021552290541498327\n",
      "Cost after iteration 3: 0.021522892832775843\n",
      "Cost after iteration 4: 0.021521716924426934\n",
      "Cost after iteration 5: 0.02152166988809298\n",
      "Gradient descent result: m_min, b_min = 0.9781790110251767, -3.996802888650562e-16\n"
     ]
    }
   ],
   "source": [
    "m_initial = 0; b_initial = 0; num_iterations = 6; learning_rate = 1.2\n",
    "m_gd, b_gd = gradient_descent(dEdm, dEdb, m_initial, b_initial, \n",
    "                              X_norm, Y_norm, learning_rate, num_iterations, print_cost=True)\n",
    "\n",
    "print(f\"Gradient descent result: m_min, b_min = {m_gd}, {b_gd}\") "
   ]
  },
  {
   "cell_type": "markdown",
   "metadata": {},
   "source": [
    "#### 10 - Definir o vetor X com os valores a serem previstos (neste caso, um vetor com os anos de experiência, para posterior previsão de salário)\n",
    "\n"
   ]
  },
  {
   "cell_type": "code",
   "execution_count": 22,
   "metadata": {},
   "outputs": [],
   "source": [
    "# Estamos falando de anos de experiência, então os números de input precisam ser realistas\n",
    "X_pred = np.array([3.5, 6, 12])"
   ]
  },
  {
   "cell_type": "markdown",
   "metadata": {},
   "source": [
    "#### 11 - Normalizar o vetor X, pra que esteja na mesma dimensão que os dados de treino"
   ]
  },
  {
   "cell_type": "code",
   "execution_count": 23,
   "metadata": {},
   "outputs": [],
   "source": [
    "X_pred_norm = (X_pred - np.mean(X))/np.std(X)"
   ]
  },
  {
   "cell_type": "markdown",
   "metadata": {},
   "source": [
    "### 12 - Realizar a previsão, com a famosa fórmula Y = ax + b, e armazenar o resultado em uma variável"
   ]
  },
  {
   "cell_type": "code",
   "execution_count": 24,
   "metadata": {},
   "outputs": [],
   "source": [
    "Y_pred_gd_norm = m_gd * X_pred_norm + b_gd"
   ]
  },
  {
   "cell_type": "markdown",
   "metadata": {},
   "source": [
    "#### 13 - Desnormalizar o vetor de previsão (vetor * desvio padrão do Y + média do Y)"
   ]
  },
  {
   "cell_type": "code",
   "execution_count": 25,
   "metadata": {},
   "outputs": [],
   "source": [
    "Y_pred_gd = Y_pred_gd_norm * np.std(Y) + np.mean(Y)"
   ]
  },
  {
   "cell_type": "code",
   "execution_count": 27,
   "metadata": {},
   "outputs": [
    {
     "name": "stdout",
     "output_type": "stream",
     "text": [
      "Years of Experience:\n",
      "[ 3.5  6.  12. ]\n",
      "Predictions of Salary:\n",
      "[ 57924.229271    81547.62308067 138243.76822387]\n"
     ]
    }
   ],
   "source": [
    "print(f\"Years of Experience:\\n{X_pred}\")\n",
    "print(f\"Predictions of Salary:\\n{Y_pred_gd}\")"
   ]
  },
  {
   "cell_type": "markdown",
   "metadata": {},
   "source": [
    "#### 14 - Plotar um único gráfico com a dispersão inicial de X e Y e os pontos de previsão (de preferência, cada um de uma cor)*"
   ]
  },
  {
   "cell_type": "code",
   "execution_count": 56,
   "metadata": {},
   "outputs": [
    {
     "data": {
      "image/png": "[encoded data removed]",
      "text/plain": [
       "<Figure size 640x480 with 1 Axes>"
      ]
     },
     "metadata": {},
     "output_type": "display_data"
    }
   ],
   "source": [
    "import matplotlib.pyplot as plt\n",
    "\n",
    "# Plotar os pontos de dados\n",
    "plt.scatter(X, Y, color=\"black\", label=\"Pontos de Dados\")\n",
    "\n",
    "# Plotar a linha de predição\n",
    "plt.plot(X_pred, Y_pred_gd, 'o', label=\"Pontos de Predição\")\n",
    "\n",
    "# Adicionar rótulos aos eixos\n",
    "plt.xlabel(\"Anos de Experiência\")\n",
    "plt.ylabel(\"Salário\")\n",
    "\n",
    "# Adicionar um título ao gráfico\n",
    "plt.title(\"Anos de Experiência x Salário\")\n",
    "\n",
    "# Adicionar uma legenda\n",
    "plt.legend()\n",
    "\n",
    "# Mostrar o gráfico\n",
    "plt.show()\n"
   ]
  },
  {
   "cell_type": "markdown",
   "metadata": {},
   "source": [
    "Agora é hora de praticar em diversos outros datasets. Quando o processo inteiro estiver na ponta da língua, ou melhor, na ponta dos dedos, é hora de avançar para regressão linear multivariada."
   ]
  }
 ],
 "metadata": {
  "kernelspec": {
   "display_name": ".venv",
   "language": "python",
   "name": "python3"
  },
  "language_info": {
   "codemirror_mode": {
    "name": "ipython",
    "version": 3
   },
   "file_extension": ".py",
   "mimetype": "text/x-python",
   "name": "python",
   "nbconvert_exporter": "python",
   "pygments_lexer": "ipython3",
   "version": "3.11.4"
  }
 },
 "nbformat": 4,
 "nbformat_minor": 2
}
